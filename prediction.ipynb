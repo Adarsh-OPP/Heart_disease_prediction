{
 "cells": [
  {
   "cell_type": "code",
   "execution_count": 1,
   "id": "03a7c1ce-5538-4db7-bb37-cca6b309c3a4",
   "metadata": {},
   "outputs": [
    {
     "name": "stdout",
     "output_type": "stream",
     "text": [
      "0:NO HEART DISEASE\n"
     ]
    }
   ],
   "source": [
    "#PLEASE RUN ALL CELL OF dataProcessing.ipynb ONCE WHICH WILL GENRATE heart_model_test_set.csv and heart_disease_model.pkl\n",
    "import pandas as pd\n",
    "import joblib\n",
    "columns = ['Age', 'Sex', 'ChestPainType', 'RestingBP', 'Cholesterol', \n",
    "           'FastingBS', 'RestingECG', 'MaxHR', 'ExerciseAngina', 'Oldpeak', 'ST_Slope']\n",
    "\n",
    "# Uncomment user data if you want to enter your own values\n",
    "\n",
    "# user_data = pd.DataFrame([{\n",
    "#     'Age': 55,\n",
    "#     'RestingBP': 140,\n",
    "#     'Cholesterol': 250,\n",
    "#     'FastingBS': 0,\n",
    "#     'MaxHR': 150,\n",
    "#     'Oldpeak': 1.5,\n",
    "#     'Sex': 'M',\n",
    "#     'ChestPainType': 'ATA',\n",
    "#     'RestingECG': 'Normal',\n",
    "#     'ExerciseAngina': 'N',\n",
    "#     'ST_Slope': 'Up'\n",
    "# }], columns=columns)\n",
    "\n",
    "test_set = pd.read_csv('heart_model_test_set.csv')\n",
    "model = joblib.load(\"heart_disease_model.pkl\")\n",
    "\n",
    "\n",
    "RowToBePredicted = 34 #change row number here which you want to be predicted from heart_model_test_set.csv\n",
    "\n",
    "\n",
    "new_data_prepared = test_set.iloc[RowToBePredicted-1:RowToBePredicted]  \n",
    "prediction = model.predict(new_data_prepared)#change new_data_prepared with user_data want to check your own data\n",
    "if prediction == 0:\n",
    "    print('0:NO HEART DISEASE')\n",
    "else: print('1:HAVE HEART DISEASE')"
   ]
  },
  {
   "cell_type": "code",
   "execution_count": null,
   "id": "c44915ad-ab3f-4e5c-af63-8b4476dda6a9",
   "metadata": {},
   "outputs": [],
   "source": []
  }
 ],
 "metadata": {
  "kernelspec": {
   "display_name": "Python 3 (ipykernel)",
   "language": "python",
   "name": "python3"
  },
  "language_info": {
   "codemirror_mode": {
    "name": "ipython",
    "version": 3
   },
   "file_extension": ".py",
   "mimetype": "text/x-python",
   "name": "python",
   "nbconvert_exporter": "python",
   "pygments_lexer": "ipython3",
   "version": "3.13.5"
  }
 },
 "nbformat": 4,
 "nbformat_minor": 5
}
